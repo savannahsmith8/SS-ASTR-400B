{
 "cells": [
  {
   "cell_type": "markdown",
   "id": "a9798ab1-30c0-4441-ac9b-8d5916911220",
   "metadata": {},
   "source": [
    "# ASTR 400B Research Assignment 3:\n",
    "This code is a draft for what will be used for my final project.\n",
    "The general topic of my research assignment is analyzing how galaxies and dark matter halos evolve together through mergers. The major question is whether the dark matter halo remnant will be prograde or retrograde, relative to the rotation of the baryon disk. This code will focus on the angular momentum calculation which will be used to analyze whether the halo is prograde or retrograde."
   ]
  },
  {
   "cell_type": "markdown",
   "id": "72f71608-cd35-402c-b3b2-1a597d58c486",
   "metadata": {},
   "source": [
    "academic papers used for inspiration and thought:\n",
    "-------------------------------------------------\n",
    "Drakos+2019 (discussion of dark matter halo mergers)\\\n",
    "Chua+2019 (claim that with baryon matter, halos are more spherical)\\\n",
    "Teklu+2015 (discussion of angular momentum in disk and halo)\\\n",
    "Carollo+2007 (claim retrograde and prograde MW halo)\\\n",
    "Koppelman+2019 (claim retrograde MW halo)"
   ]
  },
  {
   "cell_type": "markdown",
   "id": "ab584ab8-bf10-4eec-835d-7e8cfdfdc5fd",
   "metadata": {},
   "source": [
    "Notes to self:\n",
    "-----\n",
    "can ignore M33 (maybe see how M33 changes the results if time allows?)\\\n",
    "RADIUS MUST BE SPECIFIED IN THE BELOW CODE:\\\n",
    "determine when disk and halo radii drop off for MW and M31 (homework 5?)\\\n",
    "--can use 20 kpc as a default for the disk radius\\\n",
    "--to determine the halo radius, find virial radius (can use 200 kpc for default)\\\n",
    "look at orbitCOM for using an array of times"
   ]
  },
  {
   "cell_type": "code",
   "execution_count": null,
   "id": "43df886c-4484-46a8-8b5d-f2518d3b6455",
   "metadata": {},
   "outputs": [],
   "source": [
    "# import modules\n",
    "import numpy as np\n",
    "import astropy.units as u\n",
    "\n",
    "# import plotting module\n",
    "import matplotlib.pyplot as plt\n",
    "\n",
    "# import previous code\n",
    "from ReadFile import Read\n",
    "from CenterofMass2 import CenterofMass\n",
    "from ParticleProperties import ParticleProperties"
   ]
  },
  {
   "cell_type": "markdown",
   "id": "b33d3bef-3728-4b40-a438-f506ea5e3d64",
   "metadata": {},
   "source": [
    "# Angular Momentum:\n",
    "To calculate the angular momentum:\n",
    "\\begin{equation}\n",
    "    \\vec{L} = \\sum_{i} \\vec{r_i} \\times \\vec{p_i} = \\sum_{i} m_i (\\vec{r_i} \\times \\vec{v_i})\n",
    "\\end{equation}\n",
    "To answer this question, we need to analyze the direction of the angular momentum of the halo and the angular momentum of the disk. If the dark matter halo is prograde, the orbital rotation is in the same direction and if the dark matter halo is retrograde, the orbital rotation is in the opposite direction. "
   ]
  },
  {
   "cell_type": "code",
   "execution_count": null,
   "id": "aa234cfb-1f32-4fab-9da1-155ee46c2305",
   "metadata": {},
   "outputs": [],
   "source": [
    "def AngularMomentum(galaxy, start, end, n):\n",
    "    '''\n",
    "        This function calculates the angular momentum of a galaxy component at a certain \n",
    "        time\n",
    "\n",
    "        PARAMETERS:\n",
    "        -----------\n",
    "            galaxy: 'str'\n",
    "                the name of the galaxy (MW, M31, or M33)\n",
    "            start: 'int'\n",
    "                the number of the first snapshot to be read in\n",
    "            end: 'int'\n",
    "                the number of the last snapshot to be read in\n",
    "            n: 'int'\n",
    "                indicates the interval over while the COM will be returned\n",
    "\n",
    "        OUTPUT:\n",
    "        -------\n",
    "            AngularMomentum: np.array\n",
    "                the angular momentum of the galaxy component in kg m^2/s\n",
    "    '''\n",
    "\n",
    "    # L = r x p = m * r x v\n",
    "    # where the variables are coming from:\n",
    "        # r: from particle properties and COM p\n",
    "        # v: from particle properties and COM v\n",
    "        # m: from particle properties\n",
    "\n",
    "    # generating the snapshot id sequence\n",
    "    snap_ids = np.arange(start, end+n, n)\n",
    "    # checking that the array is not empty but stopping the code if it is empty\n",
    "    if snap_ids.size == 0:\n",
    "        print(\"no snapshots found (invalid input)\")\n",
    "        return\n",
    "\n",
    "    # setting tolerance and VolDec for calculating COM_P in CenterOfMass\n",
    "    delta = 0.1\n",
    "    volDec = 4.0\n",
    "\n",
    "    # looping over the txt files within each galaxy folder \n",
    "    # each folder is named as the galaxy name (MW, M31, or M33)\n",
    "    for i, snap_id in enumerate(snap_ids):\n",
    "        \n",
    "        # composing the data filename\n",
    "        ilbl = f\"{snap_id:03d}\"  # looks at the last three digits of the snapshot file\n",
    "        filename = f\"{galaxy}/{galaxy}_{ilbl}.txt\" # folder/file\n",
    "    \n",
    "        # consider the ith particle (either disk or halo):\n",
    "        # len(N) for N total particles in the galaxy component\n",
    "        r = np.zeros(len(N))\n",
    "        v = np.zeros(len(N))\n",
    "        m = np.zeros(len(N))\n",
    "        \n",
    "        # need to loop through the number of particles in the component\n",
    "        for j in range(len(N))\n",
    "            r[j], v[j], m[j] = ParticleProperties(filename, type, N)\n",
    "\n",
    "        # at any given time, we know com p and com v for the galaxy component (either disk or halo)\n",
    "        # create an instance of CenterofMass class for galaxy with particle type\n",
    "        galaxy_COM = CenterOfMass(filename, type)\n",
    "\n",
    "        # storing the COM position and COM velocity\n",
    "        r_COM = galaxy_COM.COM_P(delta, volDec)\n",
    "        v_COM = galaxy_COM.COM_V(r_COM[0], r_COM[1], r_COM[2])\n",
    "\n",
    "        # update the radii and velocities to be in the COM frame\n",
    "        r_new = r - r_COM\n",
    "        v_new = v - v_COM\n",
    "\n",
    "        # calculate angular momentum for the ith particle\n",
    "        AngularMomentum_i = m * np.cross(r_new, v_new)\n",
    "        \n",
    "        # total angular momentum for the galaxy component would be the sum of every particle's\n",
    "        # angular momentum in that galaxy component\n",
    "        AngularMomentum = np.sum(AngularMomentum_i)\n",
    "    \n",
    "        return AngularMomentum\n"
   ]
  },
  {
   "cell_type": "code",
   "execution_count": null,
   "id": "711e5f04-2471-42af-bb1c-a131392c6a8c",
   "metadata": {},
   "outputs": [],
   "source": [
    "# can normalize the angular momentum vector since we only care about direction for this\n",
    "# question"
   ]
  },
  {
   "cell_type": "code",
   "execution_count": null,
   "id": "d0385548-2dc0-4172-812f-3ecfeb61d71a",
   "metadata": {},
   "outputs": [],
   "source": [
    "# assign variables to the outputs of AngularMomentum for MW and M31 for their disk and\n",
    "# halo components and for pre and post merger\n",
    "\n",
    "# for MW:\n",
    "\n",
    "# disk:\n",
    "\n",
    "# pre-merger:\n",
    "\n",
    "# halo:\n",
    "\n",
    "# pre-merger:\n",
    "\n",
    "\n",
    "# for M31:\n",
    "\n",
    "# disk:\n",
    "\n",
    "# pre-merger:\n",
    "\n",
    "# halo:\n",
    "\n",
    "# pre-merger:\n",
    "\n",
    "\n",
    "# MW-M31 remnant:\n",
    "\n",
    "# disk:\n",
    "\n",
    "# halo:\n",
    "\n",
    "\n"
   ]
  },
  {
   "cell_type": "markdown",
   "id": "fa6e1732-582d-47df-993d-0313a2d50bed",
   "metadata": {},
   "source": [
    "# Prograde or Retrograde?\n",
    "Because the angular momentum vectors are in 3D and the directions are not simply clockwise or counterclockwise, we must calculate the dot product between the two vectors to determine whether they oppose each other or not.\n",
    "\\begin{equation}\n",
    "    \\vec{L_{halo}} \\cdot \\vec{L_{disk}} = |\\vec{L_{halo}}||\\vec{L_{disk}}|cos\\theta \\rightarrow cos\\theta = \\frac{\\vec{L_{halo}} \\cdot \\vec{L_{disk}}}{|\\vec{L_{halo}}||\\vec{L_{disk}}|}\n",
    "\\end{equation}\n",
    "If the cosine term is negative, the orbit of the dark matter halo is prograde. If the cosine term is positive, the orbit of the dark matter halo is retrograde."
   ]
  },
  {
   "cell_type": "code",
   "execution_count": null,
   "id": "47b994c6-5cd9-4dab-b60f-3b9a907c8bf7",
   "metadata": {},
   "outputs": [],
   "source": [
    "# compute the dot product of the angular momenta\n",
    "\n"
   ]
  },
  {
   "cell_type": "code",
   "execution_count": null,
   "id": "2f9ea164-e8ff-4487-85ad-f27377eb8dac",
   "metadata": {},
   "outputs": [],
   "source": [
    "# plot the dot product as a function of time\n",
    "\n"
   ]
  }
 ],
 "metadata": {
  "kernelspec": {
   "display_name": "Python 3 (ipykernel)",
   "language": "python",
   "name": "python3"
  },
  "language_info": {
   "codemirror_mode": {
    "name": "ipython",
    "version": 3
   },
   "file_extension": ".py",
   "mimetype": "text/x-python",
   "name": "python",
   "nbconvert_exporter": "python",
   "pygments_lexer": "ipython3",
   "version": "3.12.4"
  }
 },
 "nbformat": 4,
 "nbformat_minor": 5
}
