{
 "cells": [
  {
   "cell_type": "markdown",
   "id": "a9798ab1-30c0-4441-ac9b-8d5916911220",
   "metadata": {},
   "source": [
    "# ASTR 400B Research Assignment 3:\n",
    "This code is a draft for what will be used for my final project.\n",
    "The general topic of my research assignment is analyzing how galaxies and dark matter halos evolve together through mergers. The major question is whether the dark matter halo remnant will be prograde or retrograde, relative to the rotation of the baryon disk. This code will focus on the angular momentum calculation which will be used to analyze whether the halo is prograde or retrograde."
   ]
  },
  {
   "cell_type": "markdown",
   "id": "72f71608-cd35-402c-b3b2-1a597d58c486",
   "metadata": {},
   "source": [
    "academic papers used for inspiration and thought:\n",
    "-------------------------------------------------\n",
    "Drakos+2019 (discussion of dark matter halo mergers)\\\n",
    "Chua+2019 (claim that with baryon matter, halos are more spherical)\\\n",
    "Teklu+2015 (discussion of angular momentum in disk and halo)\\\n",
    "Carollo+2007 (claim retrograde and prograde MW halo)\\\n",
    "Koppelman+2019 (claim retrograde MW halo)"
   ]
  },
  {
   "cell_type": "markdown",
   "id": "ab584ab8-bf10-4eec-835d-7e8cfdfdc5fd",
   "metadata": {},
   "source": [
    "Notes to self:\n",
    "-----\n",
    "can ignore M33 (maybe see how M33 changes the results if time allows?)\\\n",
    "RADIUS MUST BE SPECIFIED IN THE BELOW CODE:\\\n",
    "determine when disk and halo radii drop off for MW and M31 (homework 5?)\\\n",
    "--can use 20 kpc as a default for the disk radius\\\n",
    "--to determine the halo radius, find virial radius (can use 200 kpc for default)\\\n",
    "look at orbitCOM for using an array of times"
   ]
  },
  {
   "cell_type": "code",
   "execution_count": 4,
   "id": "43df886c-4484-46a8-8b5d-f2518d3b6455",
   "metadata": {},
   "outputs": [],
   "source": [
    "# import modules\n",
    "import numpy as np\n",
    "import astropy.units as u\n",
    "\n",
    "# import plotting module\n",
    "import matplotlib.pyplot as plt\n",
    "\n",
    "# import previous code\n",
    "from ReadFile import Read\n",
    "from CenterOfMass import CenterOfMass\n",
    "from ParticleProperties2 import ParticleProperties"
   ]
  },
  {
   "cell_type": "markdown",
   "id": "318d9469-5150-42db-a4f8-a91780aa029a",
   "metadata": {},
   "source": [
    "# Rotate the Disk of M31\n",
    "The disk of M31 is tilted from the simulation data and we want the data to represent M31 edge on. The following code is from Lab 7."
   ]
  },
  {
   "cell_type": "code",
   "execution_count": null,
   "id": "6a8d737d-bbf2-40dc-b873-61d00f3ad077",
   "metadata": {},
   "outputs": [],
   "source": [
    "def RotateFrame(posI,velI):\n",
    "    \"\"\"a function that will rotate the position and velocity vectors\n",
    "    so that the disk angular momentum is aligned with z axis. \n",
    "    \n",
    "    PARAMETERS\n",
    "    ----------\n",
    "        posI : `array of floats`\n",
    "             3D array of positions (x,y,z)\n",
    "        velI : `array of floats`\n",
    "             3D array of velocities (vx,vy,vz)\n",
    "             \n",
    "    RETURNS\n",
    "    -------\n",
    "        pos: `array of floats`\n",
    "            rotated 3D array of positions (x,y,z) \n",
    "            such that disk is in the XY plane\n",
    "        vel: `array of floats`\n",
    "            rotated 3D array of velocities (vx,vy,vz) \n",
    "            such that disk angular momentum vector\n",
    "            is in the +z direction \n",
    "    \"\"\"\n",
    "    \n",
    "    # compute the angular momentum\n",
    "    L = np.sum(np.cross(posI,velI), axis=0)\n",
    "    \n",
    "    # normalize the angular momentum vector\n",
    "    L_norm = L/np.sqrt(np.sum(L**2))\n",
    "\n",
    "    # Set up rotation matrix to map L_norm to\n",
    "    # z unit vector (disk in xy-plane)\n",
    "    \n",
    "    # z unit vector\n",
    "    z_norm = np.array([0, 0, 1])\n",
    "    \n",
    "    # cross product between L and z\n",
    "    vv = np.cross(L_norm, z_norm)\n",
    "    s = np.sqrt(np.sum(vv**2))\n",
    "    \n",
    "    # dot product between L and z \n",
    "    c = np.dot(L_norm, z_norm)\n",
    "    \n",
    "    # rotation matrix\n",
    "    I = np.array([[1, 0, 0], [0, 1, 0], [0, 0, 1]])\n",
    "    v_x = np.array([[0, -vv[2], vv[1]], [vv[2], 0, -vv[0]], [-vv[1], vv[0], 0]])\n",
    "    R = I + v_x + np.dot(v_x, v_x)*(1 - c)/s**2\n",
    "\n",
    "    # Rotate coordinate system\n",
    "    pos = np.dot(R, posI.T).T\n",
    "    vel = np.dot(R, velI.T).T\n",
    "    \n",
    "    return pos, vel"
   ]
  },
  {
   "cell_type": "code",
   "execution_count": null,
   "id": "f5d94460-8e96-405e-86d2-0889e8abd194",
   "metadata": {},
   "outputs": [],
   "source": [
    "# compute the rotated position and velocity vectors\n",
    "rn, vn = RotateFrame(r,v)"
   ]
  },
  {
   "cell_type": "markdown",
   "id": "b33d3bef-3728-4b40-a438-f506ea5e3d64",
   "metadata": {},
   "source": [
    "# Angular Momentum\n",
    "To calculate the angular momentum:\n",
    "\\begin{equation}\n",
    "    \\vec{L} = \\sum_{i} \\vec{r_i} \\times \\vec{p_i} = \\sum_{i} m_i (\\vec{r_i} \\times \\vec{v_i})\n",
    "\\end{equation}\n",
    "To answer this question, we need to analyze the direction of the angular momentum of the halo and the angular momentum of the disk. If the dark matter halo is prograde, the orbital rotation is in the same direction and if the dark matter halo is retrograde, the orbital rotation is in the opposite direction. "
   ]
  },
  {
   "cell_type": "code",
   "execution_count": 6,
   "id": "c9f23d21-8a3a-4f50-b3d7-12cd0e30aaee",
   "metadata": {},
   "outputs": [],
   "source": [
    "# from lab 7:\n",
    "# rotate the disk to be edge on for M31\n",
    "\n",
    "# radius restrictions (homework 5):\n",
    "# disk = 15 kpc\n",
    "# halo = 63 kpc\n",
    "\n",
    "# pick two or three radii to track angular momentum --> pick radii based on shells of mass (1/2 mass of halo and 3/4 mass of halo and...)"
   ]
  },
  {
   "cell_type": "code",
   "execution_count": 13,
   "id": "aa234cfb-1f32-4fab-9da1-155ee46c2305",
   "metadata": {},
   "outputs": [],
   "source": [
    "def AngularMomentum(galaxy, type, start, end, n):\n",
    "    '''\n",
    "        This function calculates the angular momentum of a galaxy component at a certain \n",
    "        time\n",
    "\n",
    "        PARAMETERS:\n",
    "        -----------\n",
    "            galaxy: 'str'\n",
    "                the name of the galaxy (MW, M31, or M33)\n",
    "            start: 'int'\n",
    "                the number of the first snapshot to be read in\n",
    "            end: 'int'\n",
    "                the number of the last snapshot to be read in\n",
    "            n: 'int'\n",
    "                indicates the interval over while the COM will be returned\n",
    "            type: 'int' (i.e. 1, 2, or 3)\n",
    "                the particle type (1 for halo, 2 for disk)\n",
    "\n",
    "        OUTPUT:\n",
    "        -------\n",
    "            AngularMomentum: np.array\n",
    "                the angular momentum of the galaxy component in kg m^2/s\n",
    "    '''\n",
    "\n",
    "    # L = r x p = m * r x v\n",
    "    # where the variables are coming from:\n",
    "        # r: from particle properties and COM p\n",
    "        # v: from particle properties and COM v\n",
    "        # m: from particle properties\n",
    "    \n",
    "    # generating the snapshot id sequence\n",
    "    snap_ids = np.arange(start, end+n, n)\n",
    "    # checking that the array is not empty but stopping the code if it is empty\n",
    "    if snap_ids.size == 0:\n",
    "        print(\"no snapshots found (invalid input)\")\n",
    "        return\n",
    "\n",
    "    # setting tolerance and VolDec for calculating COM_P in CenterOfMass\n",
    "    delta = 0.1\n",
    "    volDec = 4.0\n",
    "\n",
    "    # AngularMomentum = np.array((int(N), 3))\n",
    "\n",
    "    # looping over the txt files within each galaxy folder \n",
    "    # each folder is named as the galaxy name (MW, M31, or M33)\n",
    "    for i, snap_id in enumerate(snap_ids):\n",
    "\n",
    "        # composing the data filename\n",
    "        ilbl = f\"{snap_id:03d}\"  # looks at the last three digits of the snapshot file\n",
    "        filename = f\"{galaxy}/{galaxy}_{ilbl}.txt\" # folder/file\n",
    "\n",
    "        # assigning variables to the outputs of the Read function\n",
    "        time, N, data = Read(filename)\n",
    "    \n",
    "        # consider the ith particle (either disk or halo):\n",
    "        # N total particles in the galaxy component\n",
    "        r = np.zeros((int(N), 3))\n",
    "        v = np.zeros((int(N), 3))\n",
    "        m = np.zeros((int(N), 1))\n",
    "        \n",
    "        # need to loop through the number of particles in the component\n",
    "        for j in range(int(N)-1):\n",
    "            r[j], v[j], m[j] = ParticleProperties(filename, type, int(N))\n",
    "\n",
    "        # at any given time, we know com p and com v for the galaxy component (either disk or halo)\n",
    "        # create an instance of CenterofMass class for galaxy with particle type\n",
    "        galaxy_COM = CenterOfMass(filename, type)\n",
    "\n",
    "        # storing the COM position and COM velocity\n",
    "        r_COM = galaxy_COM.COM_P(delta, volDec)\n",
    "        v_COM = galaxy_COM.COM_V(r_COM[0], r_COM[1], r_COM[2])\n",
    "\n",
    "        # update the radii and velocities to be in the COM frame\n",
    "        r_new = r - r_COM\n",
    "        v_new = v - v_COM\n",
    "\n",
    "        # would assume if the radii increase        \n",
    "        # need to specify a radius for halo and disk\n",
    "        if type == 1:\n",
    "            if r_new > 200:\n",
    "                print('radius of particle is larger than halo radius')\n",
    "                return\n",
    "        if type == 2:\n",
    "            if r_new > 20:\n",
    "                print('radius of particle is larger than disk radius')\n",
    "                return\n",
    "\n",
    "        # calculate angular momentum for the ith particle\n",
    "        AngularMomentum_ith = m * np.cross(r_new, v_new)\n",
    "        \n",
    "        # total angular momentum for the galaxy component would be the sum of every particle's\n",
    "        # angular momentum in that galaxy component\n",
    "        AngularMomentum = np.sum(AngularMomentum_i)\n",
    "    \n",
    "    return AngularMomentum\n"
   ]
  },
  {
   "cell_type": "code",
   "execution_count": 15,
   "id": "d0385548-2dc0-4172-812f-3ecfeb61d71a",
   "metadata": {},
   "outputs": [
    {
     "ename": "IndexError",
     "evalue": "index 67499 is out of bounds for axis 0 with size 25000",
     "output_type": "error",
     "traceback": [
      "\u001b[1;31m---------------------------------------------------------------------------\u001b[0m",
      "\u001b[1;31mIndexError\u001b[0m                                Traceback (most recent call last)",
      "Cell \u001b[1;32mIn[15], line 7\u001b[0m\n\u001b[0;32m      1\u001b[0m \u001b[38;5;66;03m# assign variables to the outputs of AngularMomentum for MW and M31 for their disk and\u001b[39;00m\n\u001b[0;32m      2\u001b[0m \u001b[38;5;66;03m# halo components and for pre and post merger\u001b[39;00m\n\u001b[0;32m      3\u001b[0m \n\u001b[0;32m      4\u001b[0m \u001b[38;5;66;03m# for MW:\u001b[39;00m\n\u001b[0;32m      5\u001b[0m \n\u001b[0;32m      6\u001b[0m \u001b[38;5;66;03m# halo, pre-merger:\u001b[39;00m\n\u001b[1;32m----> 7\u001b[0m MW_halo_L \u001b[38;5;241m=\u001b[39m AngularMomentum(\u001b[38;5;124m'\u001b[39m\u001b[38;5;124mMW\u001b[39m\u001b[38;5;124m'\u001b[39m, \u001b[38;5;241m1\u001b[39m, \u001b[38;5;241m0\u001b[39m, \u001b[38;5;241m800\u001b[39m, \u001b[38;5;241m100\u001b[39m)\n",
      "Cell \u001b[1;32mIn[13], line 63\u001b[0m, in \u001b[0;36mAngularMomentum\u001b[1;34m(galaxy, type, start, end, n)\u001b[0m\n\u001b[0;32m     61\u001b[0m \u001b[38;5;66;03m# need to loop through the number of particles in the component\u001b[39;00m\n\u001b[0;32m     62\u001b[0m \u001b[38;5;28;01mfor\u001b[39;00m j \u001b[38;5;129;01min\u001b[39;00m \u001b[38;5;28mrange\u001b[39m(\u001b[38;5;28mint\u001b[39m(N)\u001b[38;5;241m-\u001b[39m\u001b[38;5;241m1\u001b[39m):\n\u001b[1;32m---> 63\u001b[0m     r[j], v[j], m[j] \u001b[38;5;241m=\u001b[39m ParticleProperties(filename, \u001b[38;5;28mtype\u001b[39m, \u001b[38;5;28mint\u001b[39m(N))\n\u001b[0;32m     65\u001b[0m \u001b[38;5;66;03m# at any given time, we know com p and com v for the galaxy component (either disk or halo)\u001b[39;00m\n\u001b[0;32m     66\u001b[0m \u001b[38;5;66;03m# create an instance of CenterofMass class for galaxy with particle type\u001b[39;00m\n\u001b[0;32m     67\u001b[0m galaxy_COM \u001b[38;5;241m=\u001b[39m CenterOfMass(filename, \u001b[38;5;28mtype\u001b[39m)\n",
      "File \u001b[1;32m~\\ParticleProperties2.py:34\u001b[0m, in \u001b[0;36mParticleProperties\u001b[1;34m(filename, particle_type, particle_num)\u001b[0m\n\u001b[0;32m     32\u001b[0m mass \u001b[38;5;241m=\u001b[39m data[\u001b[38;5;124m'\u001b[39m\u001b[38;5;124mm\u001b[39m\u001b[38;5;124m'\u001b[39m][index]\u001b[38;5;241m*\u001b[39m(\u001b[38;5;241m10\u001b[39m \u001b[38;5;241m*\u001b[39m\u001b[38;5;241m*\u001b[39m \u001b[38;5;241m10\u001b[39m)\u001b[38;5;241m*\u001b[39mu\u001b[38;5;241m.\u001b[39mM_sun\n\u001b[0;32m     33\u001b[0m \u001b[38;5;66;03m# assigning the mass of the individual particle to the variable particle_mass\u001b[39;00m\n\u001b[1;32m---> 34\u001b[0m particle_mass \u001b[38;5;241m=\u001b[39m mass[particle_num\u001b[38;5;241m-\u001b[39m\u001b[38;5;241m1\u001b[39m]\n\u001b[0;32m     36\u001b[0m x \u001b[38;5;241m=\u001b[39m data[\u001b[38;5;124m'\u001b[39m\u001b[38;5;124mx\u001b[39m\u001b[38;5;124m'\u001b[39m][index]\u001b[38;5;241m*\u001b[39mu\u001b[38;5;241m.\u001b[39mkpc\n\u001b[0;32m     37\u001b[0m y \u001b[38;5;241m=\u001b[39m data[\u001b[38;5;124m'\u001b[39m\u001b[38;5;124my\u001b[39m\u001b[38;5;124m'\u001b[39m][index]\u001b[38;5;241m*\u001b[39mu\u001b[38;5;241m.\u001b[39mkpc\n",
      "File \u001b[1;32m~\\anaconda3\\Lib\\site-packages\\astropy\\units\\quantity.py:1302\u001b[0m, in \u001b[0;36mQuantity.__getitem__\u001b[1;34m(self, key)\u001b[0m\n\u001b[0;32m   1297\u001b[0m     \u001b[38;5;28;01mreturn\u001b[39;00m \u001b[38;5;28mself\u001b[39m\u001b[38;5;241m.\u001b[39m_new_view(\n\u001b[0;32m   1298\u001b[0m         \u001b[38;5;28mself\u001b[39m\u001b[38;5;241m.\u001b[39mview(np\u001b[38;5;241m.\u001b[39mndarray)[key], \u001b[38;5;28mself\u001b[39m\u001b[38;5;241m.\u001b[39munit[key], propagate_info\u001b[38;5;241m=\u001b[39m\u001b[38;5;28;01mFalse\u001b[39;00m\n\u001b[0;32m   1299\u001b[0m     )\n\u001b[0;32m   1301\u001b[0m \u001b[38;5;28;01mtry\u001b[39;00m:\n\u001b[1;32m-> 1302\u001b[0m     out \u001b[38;5;241m=\u001b[39m \u001b[38;5;28msuper\u001b[39m()\u001b[38;5;241m.\u001b[39m\u001b[38;5;21m__getitem__\u001b[39m(key)\n\u001b[0;32m   1303\u001b[0m \u001b[38;5;28;01mexcept\u001b[39;00m \u001b[38;5;167;01mIndexError\u001b[39;00m:\n\u001b[0;32m   1304\u001b[0m     \u001b[38;5;66;03m# We want zero-dimensional Quantity objects to behave like scalars,\u001b[39;00m\n\u001b[0;32m   1305\u001b[0m     \u001b[38;5;66;03m# so they should raise a TypeError rather than an IndexError.\u001b[39;00m\n\u001b[0;32m   1306\u001b[0m     \u001b[38;5;28;01mif\u001b[39;00m \u001b[38;5;28mself\u001b[39m\u001b[38;5;241m.\u001b[39misscalar:\n",
      "\u001b[1;31mIndexError\u001b[0m: index 67499 is out of bounds for axis 0 with size 25000"
     ]
    }
   ],
   "source": [
    "# assign variables to the outputs of AngularMomentum for MW and M31 for their disk and\n",
    "# halo components and for pre and post merger\n",
    "\n",
    "# for MW:\n",
    "\n",
    "# halo, pre-merger:\n",
    "MW_halo_L = AngularMomentum('MW', 1, 0, 800, 100)\n",
    "\n",
    "# disk, pre-merger:\n",
    "#MW_disk_L = AngularMomentum(MW, 2, 0, 800, 5)\n",
    "\n",
    "\n",
    "# for M31:\n",
    "\n",
    "# halo, pre-merger:\n",
    "#M31_halo_L = AngularMomentum(M31, 1, 0, 800, 5)\n",
    "\n",
    "# disk, pre-merger:\n",
    "#M31_disk_L = AngularMomentum(M31, 2, 0, 800, 5)\n",
    "\n",
    "\n",
    "# MW-M31 remnant:\n",
    "\n",
    "# disk:\n",
    "\n",
    "\n",
    "# halo:\n",
    "\n",
    "\n"
   ]
  },
  {
   "cell_type": "code",
   "execution_count": null,
   "id": "711e5f04-2471-42af-bb1c-a131392c6a8c",
   "metadata": {},
   "outputs": [],
   "source": [
    "# can normalize the angular momentum vector since we only care about direction\n",
    "\n"
   ]
  },
  {
   "cell_type": "markdown",
   "id": "fa6e1732-582d-47df-993d-0313a2d50bed",
   "metadata": {},
   "source": [
    "# Prograde or Retrograde?\n",
    "Because the angular momentum vectors are in 3D and the directions are not simply clockwise or counterclockwise, we must calculate the dot product between the two vectors to determine whether they oppose each other or not.\n",
    "\\begin{equation}\n",
    "    \\vec{L_{halo}} \\cdot \\vec{L_{disk}} = |\\vec{L_{halo}}||\\vec{L_{disk}}|cos\\theta \\rightarrow cos\\theta = \\frac{\\vec{L_{halo}} \\cdot \\vec{L_{disk}}}{|\\vec{L_{halo}}||\\vec{L_{disk}}|}\n",
    "\\end{equation}\n",
    "If the cosine term is negative, the orbit of the dark matter halo is prograde. If the cosine term is positive, the orbit of the dark matter halo is retrograde."
   ]
  },
  {
   "cell_type": "code",
   "execution_count": null,
   "id": "47b994c6-5cd9-4dab-b60f-3b9a907c8bf7",
   "metadata": {},
   "outputs": [],
   "source": [
    "# compute the dot product of the angular momenta\n",
    "\n"
   ]
  },
  {
   "cell_type": "code",
   "execution_count": null,
   "id": "2f9ea164-e8ff-4487-85ad-f27377eb8dac",
   "metadata": {},
   "outputs": [],
   "source": [
    "# plot the dot product as a function of time\n",
    "\n"
   ]
  }
 ],
 "metadata": {
  "kernelspec": {
   "display_name": "Python 3 (ipykernel)",
   "language": "python",
   "name": "python3"
  },
  "language_info": {
   "codemirror_mode": {
    "name": "ipython",
    "version": 3
   },
   "file_extension": ".py",
   "mimetype": "text/x-python",
   "name": "python",
   "nbconvert_exporter": "python",
   "pygments_lexer": "ipython3",
   "version": "3.12.4"
  }
 },
 "nbformat": 4,
 "nbformat_minor": 5
}
