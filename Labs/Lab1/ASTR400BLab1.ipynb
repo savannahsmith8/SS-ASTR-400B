{
 "cells": [
  {
   "cell_type": "markdown",
   "metadata": {},
   "source": [
    "# In Class Lab 1\n",
    "\n",
    "### Due by midnight, thursday in your github repository 'Labs/Lab1' folder\n"
   ]
  },
  {
   "cell_type": "code",
   "execution_count": 1,
   "metadata": {},
   "outputs": [],
   "source": [
    "# Import Modules \n",
    "import numpy as np # import numpy\n",
    "import astropy.units as u # import astropy units\n",
    "from astropy import constants as const # import astropy constants"
   ]
  },
  {
   "cell_type": "markdown",
   "metadata": {},
   "source": [
    "### Astropy Units:  https://docs.astropy.org/en/stable/units/index.html"
   ]
  },
  {
   "cell_type": "markdown",
   "metadata": {},
   "source": [
    "\n",
    "## Part A:  The Local Standard of Rest\n",
    "Proper motion of Sgr A* from Reid & Brunthaler 2004\n",
    "$\\mu = 6.379$ mas/yr \n",
    "\n",
    "Peculiar motion of the sun, $v_\\odot$ = 12.24 km/s  (Schonrich 2010)\n",
    "\n",
    "\n",
    "$v_{tan} = 4.74 \\frac{\\mu}{\\rm mas/yr} \\frac{R_o}{\\rm kpc} = V_{LSR} + v_\\odot$\n",
    "\n",
    "\n",
    "### a)\n",
    "\n",
    "Create a function called VLSR to compute the local standard of res (V$_{LSR}$).\n",
    "\n",
    "The function should take as input: the solar radius (R$_o$), the proper motion (mu)\n",
    "and the peculiar motion of the sun in the $v_\\odot$ direction.\n",
    "\n",
    "Compute V$_{LSR}$ using three different values R$_o$: \n",
    "1. Water Maser Distance for the Sun :  R$_o$ = 8.34 kpc   (Reid 2014 ApJ 783) \n",
    "2. GRAVITY Collaboration Distance for the Sun:  R$_o$ = 8.178 kpc   (Abuter+2019 A&A 625)\n",
    "3. Value for Distance to Sun listed in Sparke & Gallagher : R$_o$ = 7.9 kpc \n"
   ]
  },
  {
   "cell_type": "code",
   "execution_count": 5,
   "metadata": {},
   "outputs": [],
   "source": [
    "# 4.74 * mu * Ro = VLSR + vsun\n",
    "def VLSR(Ro, mu=6.379, vsun=12.24*u.km/u.s):\n",
    "    \"\"\"\n",
    "        This function will compute the velocity at the local standard of rest\n",
    "            VLSR = 4.74 * mu * Ro - vsun\n",
    "        Inputs: Ro (astropy units kpc) is the distance from the sun to the galactic center\n",
    "                mu is the proper motion of Sag A* (mas/yr)\n",
    "                    default is from Reid & Brunthaler 2004\n",
    "                vsun (astropy units km/s) is the peculiar motion of the sun in the v direction (Schronrich+2010)\n",
    "        Outputs: VLSR (astropy units km/s) is the local standard of rest\n",
    "    \"\"\"\n",
    "    VLSR = 4.74 * mu * (Ro/u.kpc)*u.km/u.s - vsun\n",
    "    return VLSR"
   ]
  },
  {
   "cell_type": "code",
   "execution_count": 7,
   "metadata": {},
   "outputs": [],
   "source": [
    "# different values of the distance to the GC\n",
    "RoReid = 8.34*u.kpc # Reid + 2014\n",
    "RoAbuter = 8.178*u.kpc # GRAVITY Abuter + 2019\n",
    "RoSparke = 7.9*u.kpc # Sparke & Gallagher Text"
   ]
  },
  {
   "cell_type": "code",
   "execution_count": 9,
   "metadata": {},
   "outputs": [
    {
     "name": "stdout",
     "output_type": "stream",
     "text": [
      "239.9320764 km / s\n"
     ]
    }
   ],
   "source": [
    "# compute VLSR using Reid 2014\n",
    "VLSR_Reid = VLSR(RoReid)\n",
    "print(VLSR_Reid)"
   ]
  },
  {
   "cell_type": "code",
   "execution_count": 15,
   "metadata": {},
   "outputs": [
    {
     "name": "stdout",
     "output_type": "stream",
     "text": [
      "235.0 km / s\n"
     ]
    }
   ],
   "source": [
    "# compute VLSR using GRAVITY Abuter + 2019\n",
    "VLSR_Abuter = VLSR(RoAbuter)\n",
    "print(np.round(VLSR_Abuter))"
   ]
  },
  {
   "cell_type": "code",
   "execution_count": 13,
   "metadata": {},
   "outputs": [
    {
     "name": "stdout",
     "output_type": "stream",
     "text": [
      "226.628034 km / s\n"
     ]
    }
   ],
   "source": [
    "# compute VLSR using Sparke & Gallagher Text\n",
    "VLSR_Sparke = VLSR(RoSparke)\n",
    "print(VLSR_Sparke)"
   ]
  },
  {
   "cell_type": "markdown",
   "metadata": {},
   "source": [
    "### b)\n",
    "\n",
    "compute the orbital period of the sun in Gyr using R$_o$ from the GRAVITY Collaboration (assume circular orbit)\n",
    "\n",
    "Note that 1 km/s $\\sim$ 1kpc/Gyr"
   ]
  },
  {
   "cell_type": "code",
   "execution_count": 21,
   "metadata": {},
   "outputs": [],
   "source": [
    "# orbital period = 2piR/V\n",
    "def TorbSun(Ro, Vc):\n",
    "    '''\n",
    "        This is a function that computes the orbital period of the sun\n",
    "            T = 2 pi R / V\n",
    "        Inputs: Ro (astropy quantity) is the distance to the galactic center in kpc\n",
    "                Vc (astropy quantity) is the velocity of the sun in the v direction in km/s\n",
    "        Outputs: T (astropy quantity) is the orbital peropd in Gyr\n",
    "    '''\n",
    "    # converting Vc to kpc/Gyr\n",
    "    VkpcGyr = Vc.to(u.kpc/u.Gyr)\n",
    "    # calculating the orbital period\n",
    "    T = 2 * np.pi * Ro / VkpcGyr\n",
    "\n",
    "    return T"
   ]
  },
  {
   "cell_type": "code",
   "execution_count": 23,
   "metadata": {},
   "outputs": [],
   "source": [
    "VsunPec = 12.24*u.km/u.s # peculiar motion"
   ]
  },
  {
   "cell_type": "code",
   "execution_count": 25,
   "metadata": {},
   "outputs": [],
   "source": [
    "# total motion of the sun in the v direction\n",
    "Vsun = VLSR_Abuter + VsunPec "
   ]
  },
  {
   "cell_type": "code",
   "execution_count": 29,
   "metadata": {},
   "outputs": [
    {
     "name": "stdout",
     "output_type": "stream",
     "text": [
      "0.203 Gyr\n"
     ]
    }
   ],
   "source": [
    "# orbital period of the sun\n",
    "T_Abuter = TorbSun(RoAbuter, Vsun)\n",
    "print(np.round(T_Abuter,3))"
   ]
  },
  {
   "cell_type": "markdown",
   "metadata": {},
   "source": [
    "### c)\n",
    "\n",
    "Compute the number of rotations about the GC over the age of the universe (13.8 Gyr)"
   ]
  },
  {
   "cell_type": "code",
   "execution_count": 33,
   "metadata": {},
   "outputs": [
    {
     "name": "stdout",
     "output_type": "stream",
     "text": [
      "67.91779593023313\n"
     ]
    }
   ],
   "source": [
    "AgeUniverse = 13.8*u.Gyr\n",
    "# calculates the number of rotations of the sun around the GC\n",
    "NumRotations = AgeUniverse/T_Abuter\n",
    "print(NumRotations)"
   ]
  },
  {
   "cell_type": "markdown",
   "metadata": {},
   "source": [
    "## Part B  Dark Matter Density Profiles\n",
    "\n",
    "### a)\n",
    "Try out Fitting Rotation Curves \n",
    "[here](http://wittman.physics.ucdavis.edu/Animations/RotationCurve/GalacticRotation.html)\n",
    "\n",
    "\n",
    "### b)\n",
    "\n",
    "\n",
    "In the Isothermal Sphere model, what is the mass enclosed within the solar radius (R$_o$) in units of M$_\\odot$? \n",
    "\n",
    "Recall that for the Isothermal sphere :\n",
    "$\\rho(r) = \\frac{V_{LSR}^2}{4\\pi G r^2}$\n",
    "\n",
    "Where $G$ = 4.4985e-6 kpc$^3$/Gyr$^2$/M$_\\odot$, r is in kpc and $V_{LSR}$ is in km/s\n",
    "\n",
    "What about at 260 kpc (in units of  M$_\\odot$) ? "
   ]
  },
  {
   "cell_type": "code",
   "execution_count": 35,
   "metadata": {},
   "outputs": [
    {
     "name": "stdout",
     "output_type": "stream",
     "text": [
      "  Name   = Gravitational constant\n",
      "  Value  = 6.6743e-11\n",
      "  Uncertainty  = 1.5e-15\n",
      "  Unit  = m3 / (kg s2)\n",
      "  Reference = CODATA 2018\n"
     ]
    }
   ],
   "source": [
    "print(const.G)"
   ]
  },
  {
   "cell_type": "code",
   "execution_count": 39,
   "metadata": {},
   "outputs": [
    {
     "name": "stdout",
     "output_type": "stream",
     "text": [
      "4.498502151469554e-06 kpc3 / (solMass Gyr2)\n"
     ]
    }
   ],
   "source": [
    "Grav = const.G.to(u.kpc**3/u.Gyr**2/u.Msun)\n",
    "print(Grav)"
   ]
  },
  {
   "cell_type": "code",
   "execution_count": 41,
   "metadata": {},
   "outputs": [],
   "source": [
    "# density profile: rho = VLSR^2 / (4 * pi * G * R^2)\n",
    "# mass (r) = integrate rho dV\n",
    "#            integrate rho 4*pi*r^2*dr\n",
    "#            integrate VLSR^2 / (4*pi*G*r^2) * (4*pi*r^2) dr\n",
    "#            integrate VLSR^2 dr\n",
    "#            VLSR^2 / G * r\n",
    "\n",
    "def massIso(r, VLSR):\n",
    "    '''\n",
    "        This function computes the dark matter mass enclosed within a given distance r assuming and isothermal sphere model\n",
    "            M(r) = VLSR^2 / G * r\n",
    "        Inputs: r (astropy quantity) is the distance from the galactic center in kpc\n",
    "                VLSR (astropy quantity) is the velocity at the local standard of rest in km/s\n",
    "        Outputs: M (astropy quantity) is the mass enclosed within r (Msun)\n",
    "    '''\n",
    "    # converting VLSR to kpc/Gyr\n",
    "    VLSRkpcGyr = VLSR.to(u.kpc/u.Gyr)\n",
    "    # isothermal sphere mass profile\n",
    "    M = ((VLSRkpcGyr**2)/Grav)*r \n",
    "    \n",
    "    return M"
   ]
  },
  {
   "cell_type": "code",
   "execution_count": 47,
   "metadata": {},
   "outputs": [
    {
     "name": "stdout",
     "output_type": "stream",
     "text": [
      "1.05e+11 solMass\n"
     ]
    }
   ],
   "source": [
    "# compute the mass enclosed within Ro (Gravity Collab)\n",
    "# mass of the isothermal sphere at the radius of the sun\n",
    "mIsoSolar = massIso(RoAbuter, VLSR_Abuter)\n",
    "print(f\"{mIsoSolar:.2e}\")"
   ]
  },
  {
   "cell_type": "code",
   "execution_count": 49,
   "metadata": {},
   "outputs": [
    {
     "name": "stdout",
     "output_type": "stream",
     "text": [
      "3.34e+12 solMass\n"
     ]
    }
   ],
   "source": [
    "# compute the mass enclosed within 260 kpc\n",
    "mIso260 = massIso(260*u.kpc, VLSR_Abuter)\n",
    "print(f\"{mIso260:.2e}\")"
   ]
  },
  {
   "cell_type": "markdown",
   "metadata": {},
   "source": [
    "## c) \n",
    "\n",
    "The Leo I satellite is one of the fastest moving satellite galaxies we know. \n",
    "\n",
    "\n",
    "It is moving with 3D velocity of magnitude: Vtot = 196 km/s at a distance of 260 kpc (Sohn 2013 ApJ 768)\n",
    "\n",
    "If we assume that Leo I is moving at the escape speed:\n",
    "\n",
    "$v_{esc}^2 = 2|\\Phi| = 2 \\int G \\frac{\\rho(r)}{r}dV $ \n",
    "\n",
    "and assuming the Milky Way is well modeled by a Hernquist Sphere with a scale radius of $a$= 30 kpc, what is the minimum mass of the Milky Way (in units of M$_\\odot$) ?  \n",
    "\n",
    "How does this compare to estimates of the mass assuming the Isothermal Sphere model at 260 kpc (from your answer above)"
   ]
  },
  {
   "cell_type": "code",
   "execution_count": 57,
   "metadata": {},
   "outputs": [],
   "source": [
    "# potential for a Hernquist sphere\n",
    "# phi = -G*M / (r+a)\n",
    "\n",
    "# escape speed become:\n",
    "#  vesc^2 = 2 * G * M / (r + a)\n",
    "\n",
    "# rearrange for M:\n",
    "#  M = vesc^2 / 2 / G * (r + a)\n",
    "\n",
    "def massHernVesc(vesc, r, a=30*u.kpc):\n",
    "    '''\n",
    "        This function determines the total dark matter mass needed given an escape speed, assuming a Hernquist profile\n",
    "            M = vesc^2 / 2 / G * (r + a)\n",
    "        inputs: vesc (astropy quantity) is the escape speed (or speed of galaxy satellite) in km/s\n",
    "                a (astropy quantity) is the Hernquist scaling in kpc\n",
    "                    default value of 30 kpc\n",
    "                r (astropy quantity) is the distance from the galactic center in kpc\n",
    "        outputs: M (astropy quantity) is the mass within r in Msun\n",
    "    '''\n",
    "    # convert vesc to kpc/Gyr\n",
    "    vescKpcGyr = vesc.to(u.kpc/u.Gyr)\n",
    "    M = vescKpcGyr ** 2 / 2 / (Grav) * (a + r)\n",
    "    \n",
    "    return M"
   ]
  },
  {
   "cell_type": "code",
   "execution_count": 59,
   "metadata": {},
   "outputs": [],
   "source": [
    "# speed of leo I Sohn et al.\n",
    "Vleo = 196*u.km/u.s\n",
    "r = 260*u.kpc"
   ]
  },
  {
   "cell_type": "code",
   "execution_count": 63,
   "metadata": {},
   "outputs": [
    {
     "name": "stdout",
     "output_type": "stream",
     "text": [
      "1.30e+12 solMass\n"
     ]
    }
   ],
   "source": [
    "MLeoI = massHernVesc(Vleo,r)\n",
    "print(f\"{MLeoI:.2e}\")"
   ]
  },
  {
   "cell_type": "code",
   "execution_count": 65,
   "metadata": {},
   "outputs": [
    {
     "data": {
      "text/latex": [
       "$2.5784204 \\; \\mathrm{}$"
      ],
      "text/plain": [
       "<Quantity 2.57842045>"
      ]
     },
     "execution_count": 65,
     "metadata": {},
     "output_type": "execute_result"
    }
   ],
   "source": [
    "mIso260/MLeoI"
   ]
  },
  {
   "cell_type": "code",
   "execution_count": null,
   "metadata": {},
   "outputs": [],
   "source": []
  }
 ],
 "metadata": {
  "kernelspec": {
   "display_name": "Python 3 (ipykernel)",
   "language": "python",
   "name": "python3"
  },
  "language_info": {
   "codemirror_mode": {
    "name": "ipython",
    "version": 3
   },
   "file_extension": ".py",
   "mimetype": "text/x-python",
   "name": "python",
   "nbconvert_exporter": "python",
   "pygments_lexer": "ipython3",
   "version": "3.12.4"
  }
 },
 "nbformat": 4,
 "nbformat_minor": 4
}
