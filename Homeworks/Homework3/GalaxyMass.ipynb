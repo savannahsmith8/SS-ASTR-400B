{
 "cells": [
  {
   "cell_type": "code",
   "execution_count": 341,
   "id": "25b0bf76-9ee2-4fcb-854c-e31fb83e6d76",
   "metadata": {},
   "outputs": [],
   "source": [
    "import numpy as np\n",
    "import astropy.units as u\n",
    "from ReadFile import Read\n",
    "from ParticleProperties import ParticleProperties\n",
    "import pandas as pd"
   ]
  },
  {
   "cell_type": "code",
   "execution_count": 343,
   "id": "28c075a3-1f89-4edc-9709-696189db8e33",
   "metadata": {},
   "outputs": [],
   "source": [
    "def ComponentMass(filename, particle_type):\n",
    "    '''\n",
    "        This function computes the total mass of any desired galaxy component\n",
    "        Inputs: filename is the name of the file\n",
    "                particle_type is the type of the particle (1 for halo, 2 for disk, and 3 for bulge)\n",
    "        Outputs: total_mass is the total mass of the galaxy component in units of 10^12 solar mass\n",
    "    '''\n",
    "    # assigning variables to the outputs of the Read function\n",
    "    time, N, data = Read(filename)\n",
    "\n",
    "    # this variable allows the code to run for one specific particle type\n",
    "    index = np.where(data['type'] == particle_type)\n",
    "\n",
    "    # initializing the count of how many particles are of the particle type\n",
    "    number_of_type = 0\n",
    "    # looping through all N particles in the data set\n",
    "    for i in range(int(N)):\n",
    "        # if the particle type is equal to the desired type, one is added to the total count\n",
    "        if data['type'][i] == particle_type:\n",
    "            number_of_type += 1\n",
    "\n",
    "    # assigning m from the Read function to be used in this function\n",
    "    # the [index] part ensures that the data being assigned to the variable is for the right particle type\n",
    "    # units will be in solar mass but having units was disrupting the code written in later cells\n",
    "    mass = data['m'][index]*(10 ** 10)\n",
    "\n",
    "    # initializing the total mass of the galaxy component\n",
    "    total_mass = 0\n",
    "    # looping through every particle with the proper particle type\n",
    "    for i in range(number_of_type - 1):\n",
    "        # adding the mass of that particle to the total mass\n",
    "        total_mass += mass[i]\n",
    "\n",
    "    return total_mass\n",
    "    "
   ]
  },
  {
   "cell_type": "code",
   "execution_count": 345,
   "id": "50653085-dd97-4559-87c0-68af10193587",
   "metadata": {},
   "outputs": [],
   "source": [
    "# assigning variables to the outputs of ComponentMass for each galaxy and for each particle type\n",
    "# using np.round to round each value to 3 decimal places\n",
    "\n",
    "MW_halo = np.round(ComponentMass(\"MW_000.txt\", 1), 3)\n",
    "MW_disk = np.round(ComponentMass(\"MW_000.txt\", 2), 3)\n",
    "MW_bulge = np.round(ComponentMass(\"MW_000.txt\", 3), 3)\n",
    "\n",
    "M31_halo = np.round(ComponentMass(\"M31_000.txt\", 1), 3)\n",
    "M31_disk = np.round(ComponentMass(\"M31_000.txt\", 2), 3)\n",
    "M31_bulge = np.round(ComponentMass(\"M31_000.txt\", 3), 3)\n",
    "\n",
    "M33_halo = np.round(ComponentMass(\"M33_000.txt\", 1), 3)\n",
    "M33_disk = np.round(ComponentMass(\"M33_000.txt\", 2), 3)\n",
    "M33_bulge = np.round(ComponentMass(\"M33_000.txt\", 3), 3)\n"
   ]
  },
  {
   "cell_type": "code",
   "execution_count": 346,
   "id": "a4641e0e-99c6-4b30-ba5d-aa5371b2a3b4",
   "metadata": {},
   "outputs": [
    {
     "name": "stdout",
     "output_type": "stream",
     "text": [
      "MW halo (dark matter) mass: 1.975e+12\n",
      "MW disk mass: 0.075e+12\n",
      "MW bulge mass: 0.010e+12\n",
      "M31 halo (dark matter) mass: 1.921e+12\n",
      "M31 disk mass: 0.120e+12\n",
      "M31 bulge mass: 0.019e+12\n",
      "M33 halo (dark matter) mass: 0.187e+12\n",
      "M33 disk mass: 0.009e+12\n",
      "M33 bulge mass: 0.000\n"
     ]
    }
   ],
   "source": [
    "# printing the values with a short description before the value in units of 10^12 solar mass:\n",
    "\n",
    "print(f\"MW halo (dark matter) mass: {MW_halo/1e12:.3f}e+12\")\n",
    "print(f\"MW disk mass: {MW_disk/1e12:.3f}e+12\")\n",
    "print(f\"MW bulge mass: {MW_bulge/1e12:.3f}e+12\")\n",
    "\n",
    "print(f\"M31 halo (dark matter) mass: {M31_halo/1e12:.3f}e+12\")\n",
    "print(f\"M31 disk mass: {M31_disk/1e12:.3f}e+12\")\n",
    "print(f\"M31 bulge mass: {M31_bulge/1e12:.3f}e+12\")\n",
    "\n",
    "print(f\"M33 halo (dark matter) mass: {M33_halo/1e12:.3f}e+12\")\n",
    "print(f\"M33 disk mass: {M33_disk/1e12:.3f}e+12\")\n",
    "print(f\"M33 bulge mass: {M33_bulge/1e12:.3f}\")\n"
   ]
  },
  {
   "cell_type": "code",
   "execution_count": 347,
   "id": "833f62b7-45ed-411d-9620-0f5922ff22cc",
   "metadata": {},
   "outputs": [],
   "source": [
    "# computing the total mass for each galaxy by adding each galaxy component mass\n",
    "MW_total = MW_halo + MW_disk + MW_bulge\n",
    "M31_total = M31_halo + M31_disk + M31_bulge\n",
    "M33_total = M33_halo + M33_disk + M33_bulge\n",
    "\n",
    "# computing values for the local group by adding each component of the separate galaxies\n",
    "LG_halo = MW_halo + M31_halo + M33_halo\n",
    "LG_disk = MW_disk + M31_disk + M33_disk\n",
    "LG_bulge = MW_bulge + M31_bulge + M33_bulge\n",
    "LG_total = LG_halo + LG_disk + LG_bulge\n",
    "\n",
    "# computing the fbar for each galaxy\n",
    "# fbar = (total stellar mass / total mass) where total mass includes the mass from dark matter\n",
    "MW_fbar = np.round(((MW_disk + MW_bulge) / (MW_total)), 3)\n",
    "M31_fbar = np.round(((M31_disk + M31_bulge) / (M31_total)), 3)\n",
    "M33_fbar = np.round(((M33_disk + M33_bulge) / (M33_total)), 3)\n",
    "LG_fbar = np.round(((LG_disk + LG_bulge) / (LG_total)), 3)"
   ]
  },
  {
   "cell_type": "code",
   "execution_count": 348,
   "id": "a7f68f9a-a6a4-46bf-98e1-b9e9b1ffd2a2",
   "metadata": {},
   "outputs": [
    {
     "name": "stdout",
     "output_type": "stream",
     "text": [
      "   Galaxy Name Halo Mass (M_☉) Disk Mass (M_☉) Bulge Mass (M_☉)  \\\n",
      "0           MW       1.975e+12       0.075e+12        0.010e+12   \n",
      "1          M31       1.921e+12       0.120e+12        0.019e+12   \n",
      "2          M33       0.187e+12       0.009e+12        0.000e+12   \n",
      "3  local group       4.082e+12       0.204e+12        0.029e+12   \n",
      "\n",
      "  Total Mass (M_☉)      fbar  \n",
      "0        2.060e+12 4.100e-02  \n",
      "1        2.060e+12 6.800e-02  \n",
      "2        0.196e+12 4.700e-02  \n",
      "3        4.316e+12 5.400e-02  \n"
     ]
    }
   ],
   "source": [
    "# organizing data to be used in a table\n",
    "data = {\n",
    "    \"Galaxy Name\": [\"MW\", \"M31\", \"M33\", \"local group\"],\n",
    "    \"Halo Mass (M_☉)\": [f'{MW_halo/1e12:.3f}e+12', f'{M31_halo/1e12:.3f}e+12', f'{M33_halo/1e12:.3f}e+12', f'{LG_halo/1e12:.3f}e+12'],\n",
    "    \"Disk Mass (M_☉)\": [f'{MW_disk/1e12:.3f}e+12', f'{M31_disk/1e12:.3f}e+12', f'{M33_disk/1e12:.3f}e+12', f'{LG_disk/1e12:.3f}e+12'],\n",
    "    \"Bulge Mass (M_☉)\": [f'{MW_bulge/1e12:.3f}e+12', f'{M31_bulge/1e12:.3f}e+12', f'{M33_bulge/1e12:.3f}e+12', f'{LG_bulge/1e12:.3f}e+12'],\n",
    "    \"Total Mass (M_☉)\": [f'{MW_total/1e12:.3f}e+12', f'{M31_total/1e12:.3f}e+12', f'{M33_total/1e12:.3f}e+12', f'{LG_total/1e12:.3f}e+12'],\n",
    "    \"fbar\": [MW_fbar, M31_fbar, M33_fbar, LG_fbar]\n",
    "}\n",
    "\n",
    "# using pandas to produce a table with all the data\n",
    "df = pd.DataFrame(data)\n",
    "print(df)"
   ]
  },
  {
   "cell_type": "code",
   "execution_count": 349,
   "id": "3d75fb7f-13a4-42b3-a86e-5778c4d7485b",
   "metadata": {},
   "outputs": [
    {
     "name": "stdout",
     "output_type": "stream",
     "text": [
      "MW total mass: 2.060e+12\n",
      "M31 total mass: 2.060e+12\n",
      "the difference in mass between the MW and M31 is 1.049e+06\n",
      "MW stellar mass: 8.500e+10\n",
      "M31 stellar mass: 1.390e+11\n",
      "the difference in stellar mass between the MW and M31 is 5.404e+10\n",
      "the ratio of dark matter in M31 to dark matter in the MW is 0.973\n",
      "MW baryon fraction: 0.041\n",
      "M31 baryon fraction: 0.068\n",
      "M33 baryon fraction: 0.047\n"
     ]
    }
   ],
   "source": [
    "# calculating and printing certain values to answer homework questions:\n",
    "\n",
    "print(f'MW total mass: {MW_total:.3e}')\n",
    "print(f'M31 total mass: {M31_total:.3e}')\n",
    "# calculating the mass difference between MW and M31\n",
    "mass_difference = M31_total - MW_total\n",
    "print(f'the difference in mass between the MW and M31 is {mass_difference:.3e}')\n",
    "\n",
    "# calculating the stellar mass (SM) of MW and M31 by adding the disk mass and bulge mass\n",
    "MW_SM = MW_disk + MW_bulge\n",
    "M31_SM = M31_disk + M31_bulge\n",
    "print(f'MW stellar mass: {MW_SM:.3e}')\n",
    "print(f'M31 stellar mass: {M31_SM:.3e}')\n",
    "# calculating the different in stellar mass between MW and M31\n",
    "SM_difference = M31_SM - MW_SM\n",
    "print(f'the difference in stellar mass between the MW and M31 is {SM_difference:.3e}')\n",
    "\n",
    "# calculating the dark matter ratio between MW and M31\n",
    "DM_ratio = M31_halo / MW_halo\n",
    "print(f'the ratio of dark matter in M31 to dark matter in the MW is {DM_ratio:.3}')\n",
    "\n",
    "print(f'MW baryon fraction: {MW_fbar:.3}')\n",
    "print(f'M31 baryon fraction: {M31_fbar:.3}')\n",
    "print(f'M33 baryon fraction: {M33_fbar:.3}')"
   ]
  },
  {
   "cell_type": "code",
   "execution_count": null,
   "id": "a4a5d732-f1dc-448f-b511-76f163213091",
   "metadata": {},
   "outputs": [],
   "source": []
  }
 ],
 "metadata": {
  "kernelspec": {
   "display_name": "Python 3 (ipykernel)",
   "language": "python",
   "name": "python3"
  },
  "language_info": {
   "codemirror_mode": {
    "name": "ipython",
    "version": 3
   },
   "file_extension": ".py",
   "mimetype": "text/x-python",
   "name": "python",
   "nbconvert_exporter": "python",
   "pygments_lexer": "ipython3",
   "version": "3.12.4"
  }
 },
 "nbformat": 4,
 "nbformat_minor": 5
}
