{
 "cells": [
  {
   "cell_type": "code",
   "execution_count": 125,
   "id": "7464b878-da1f-4a35-be40-a8a5dc3289ef",
   "metadata": {},
   "outputs": [],
   "source": [
    "import numpy as np\n",
    "import astropy.units as u\n",
    "from ReadFile import Read"
   ]
  },
  {
   "cell_type": "code",
   "execution_count": 127,
   "id": "4f6027e1-9609-4c0a-8d34-3146d74f80a2",
   "metadata": {},
   "outputs": [],
   "source": [
    "def ParticleProperties(filename, particle_type, particle_num):\n",
    "    '''\n",
    "    This function will return multiple properties for any given particle of any given type (dark, disk, or bulge)\n",
    "    Inputs: filename is the name of the datafile\n",
    "            type is the type of particle (1 for dark, 2 for disk, and 3 for bulge)\n",
    "            N is the total number of particles\n",
    "    Outputs: d_mag (units of kpc) is the magnitude of the distance of the particle\n",
    "             v_mag (units of km/s) is the magnitude of the velocity of the particle\n",
    "             mass (units of solar mass) is the mass of the particle\n",
    "    '''\n",
    "    # assigning variables to the outputs of the Read function\n",
    "    time, N, data = Read(filename)\n",
    "\n",
    "    # this variable allows the code to run for one specific particle type\n",
    "    index = np.where(data['type'] == particle_type)\n",
    "\n",
    "    # assigning all variables from the Read function to be used in this function\n",
    "    # units added to variables using astropy\n",
    "    # the [index] part ensures that the data being assigned to the variable is for the right particle type\n",
    "    \n",
    "    mass = data['m'][index]*(10 ** 10)*u.M_sun\n",
    "    # assigning the mass of the individual particle to the variable particle_mass\n",
    "    particle_mass = mass[particle_num-1]\n",
    "    \n",
    "    x = data['x'][index]*u.kpc\n",
    "    y = data['y'][index]*u.kpc\n",
    "    z = data['z'][index]*u.kpc\n",
    "    \n",
    "    vx = data['vx'][index]*u.km/u.s\n",
    "    vy = data['vy'][index]*u.km/u.s\n",
    "    vz = data['vz'][index]*u.km/u.s\n",
    "\n",
    "    # calculating the distance of the particle in kpc\n",
    "    # the index of N-1 will access the x, y, and z positions for the Nth particle\n",
    "    d_mag = (( (x[particle_num-1] ** 2) + (y[particle_num-1] ** 2) + (z[particle_num-1] ** 2) ) ** (1/2))\n",
    "    # rounding to 3 decimal places\n",
    "    dist = np.around(d_mag, 3)\n",
    "\n",
    "    # calculating the velocity of the particle in km/s\n",
    "    # the index of N-1 will access the vx, vy, and vz velocities for the Nth particle\n",
    "    v_mag = (( (vx[particle_num-1] ** 2) + (vy[particle_num-1] ** 2) + (vz[particle_num-1] ** 2) ) ** (1/2))\n",
    "    # rounding to 3 decimal places\n",
    "    vel = np.around(v_mag, 3)\n",
    "\n",
    "    return dist, vel, particle_mass\n"
   ]
  },
  {
   "cell_type": "code",
   "execution_count": 129,
   "id": "fb6232bb-9425-4585-8735-0875e9d7d5e1",
   "metadata": {},
   "outputs": [],
   "source": [
    "# assigning variables to the outputs of the ParticleProperties function\n",
    "# reading in text file MW_000.txt, analyzing type 2 particles (disk stars), and focusing on the 100th particle\n",
    "distance, velocity, particle_mass = ParticleProperties(\"MW_000.txt\", 2, 100)"
   ]
  },
  {
   "cell_type": "code",
   "execution_count": 130,
   "id": "c5be2ec0-6c0d-4911-9a30-46ea969cb4cd",
   "metadata": {},
   "outputs": [
    {
     "data": {
      "text/latex": [
       "$4.245 \\; \\mathrm{kpc}$"
      ],
      "text/plain": [
       "<Quantity 4.245 kpc>"
      ]
     },
     "execution_count": 130,
     "metadata": {},
     "output_type": "execute_result"
    }
   ],
   "source": [
    "distance"
   ]
  },
  {
   "cell_type": "code",
   "execution_count": 131,
   "id": "059f6677-6d07-487c-a084-83ea2bce0d68",
   "metadata": {},
   "outputs": [
    {
     "data": {
      "text/latex": [
       "$312.135 \\; \\mathrm{\\frac{km}{s}}$"
      ],
      "text/plain": [
       "<Quantity 312.135 km / s>"
      ]
     },
     "execution_count": 131,
     "metadata": {},
     "output_type": "execute_result"
    }
   ],
   "source": [
    "velocity"
   ]
  },
  {
   "cell_type": "code",
   "execution_count": 132,
   "id": "f935acf4-8418-4dc8-a4ad-b9dc7d7d22d0",
   "metadata": {},
   "outputs": [
    {
     "data": {
      "text/latex": [
       "$1000000 \\; \\mathrm{M_{\\odot}}$"
      ],
      "text/plain": [
       "<Quantity 1000000. solMass>"
      ]
     },
     "execution_count": 132,
     "metadata": {},
     "output_type": "execute_result"
    }
   ],
   "source": [
    "particle_mass"
   ]
  },
  {
   "cell_type": "code",
   "execution_count": 133,
   "id": "f466d828-15d9-44f4-9b1f-0dad48b85443",
   "metadata": {},
   "outputs": [
    {
     "data": {
      "text/latex": [
       "$13845.338 \\; \\mathrm{lyr}$"
      ],
      "text/plain": [
       "<Quantity 13845.33823408 lyr>"
      ]
     },
     "execution_count": 133,
     "metadata": {},
     "output_type": "execute_result"
    }
   ],
   "source": [
    "distance.to(u.lightyear)"
   ]
  },
  {
   "cell_type": "code",
   "execution_count": null,
   "id": "603b5fb0-975f-42b0-8659-5a62e90f01ce",
   "metadata": {},
   "outputs": [],
   "source": []
  }
 ],
 "metadata": {
  "kernelspec": {
   "display_name": "Python 3 (ipykernel)",
   "language": "python",
   "name": "python3"
  },
  "language_info": {
   "codemirror_mode": {
    "name": "ipython",
    "version": 3
   },
   "file_extension": ".py",
   "mimetype": "text/x-python",
   "name": "python",
   "nbconvert_exporter": "python",
   "pygments_lexer": "ipython3",
   "version": "3.12.4"
  }
 },
 "nbformat": 4,
 "nbformat_minor": 5
}
