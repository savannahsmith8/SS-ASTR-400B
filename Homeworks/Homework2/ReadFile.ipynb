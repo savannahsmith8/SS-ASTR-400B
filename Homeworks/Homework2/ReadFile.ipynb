{
 "cells": [
  {
   "cell_type": "code",
   "execution_count": 227,
   "id": "c47f1d15-744e-4e5c-97dd-590ac8135f8c",
   "metadata": {},
   "outputs": [],
   "source": [
    "import numpy as np\n",
    "import astropy.units as u"
   ]
  },
  {
   "cell_type": "code",
   "execution_count": 229,
   "id": "69c67436-2d26-45da-9c2c-b3db054ad89a",
   "metadata": {},
   "outputs": [],
   "source": [
    "def Read(datafile):\n",
    "    '''\n",
    "    This function will read a data file and collect the time, total number of particles, and various information about each particle\n",
    "    Inputs: the name of a datafile as a text file\n",
    "            This code is specific to handle the data contained within MW_000.txt and how that text file is organized\n",
    "    Outputs: time (units of Myr) is the time specified by the text file\n",
    "             N is the total number of particles specified by the text file\n",
    "             type is the type of particle with type 1 representing dark matter, type 2 representing disk stars, and type 3 representing bulge stars\n",
    "             mass (units of 10^10 solar masses) and represents the mass of the particle\n",
    "             x, y, z (units of kpc) are the positions of the particle measured from the center of mass position of the Milky Way (MW)\n",
    "             vx, vy, vz (units of km/s) are the velocities of the particle using a cartesian coordinate system centered on the location of the MW\n",
    "    '''\n",
    "    file = open(datafile, 'r')\n",
    "\n",
    "    # collecting time information:\n",
    "    # reading the first line of the datafile\n",
    "    line1 = file.readline()\n",
    "    # assigning variables to the two groups of characters in the first line\n",
    "    label, value = line1.split()\n",
    "    # assigning the value variable to the time variable and assigning units of Myr\n",
    "    time = float(value)*u.Myr\n",
    "\n",
    "    # collecting number of particles information:\n",
    "    # reading the second line of the datafile\n",
    "    line2 = file.readline()\n",
    "    # assigning variables to the two groups of characters in the second line\n",
    "    label, value = line2.split()\n",
    "    # assigning the value variable to the N variable for the total number of particles\n",
    "    N = float(value)\n",
    "\n",
    "    file.close()\n",
    "\n",
    "    # collecting data information in a format that translates to arrays:\n",
    "    \n",
    "    # np.genfromtxt: allows the code to process column header information\n",
    "    # dtype = None: allows for the column's data types to be interpreted\n",
    "    # names = True: allows for the array names to match the labels\n",
    "    # skip_header = 3: skips the first 3 lines (which display the time, N, and units)\n",
    "    data = np.genfromtxt(datafile, dtype = None, names = True, skip_header = 3)\n",
    "\n",
    "    return time, N, data\n",
    "    "
   ]
  }
 ],
 "metadata": {
  "kernelspec": {
   "display_name": "Python 3 (ipykernel)",
   "language": "python",
   "name": "python3"
  },
  "language_info": {
   "codemirror_mode": {
    "name": "ipython",
    "version": 3
   },
   "file_extension": ".py",
   "mimetype": "text/x-python",
   "name": "python",
   "nbconvert_exporter": "python",
   "pygments_lexer": "ipython3",
   "version": "3.12.4"
  }
 },
 "nbformat": 4,
 "nbformat_minor": 5
}
